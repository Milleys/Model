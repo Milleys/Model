{
 "cells": [
  {
   "cell_type": "code",
   "execution_count": 60,
   "id": "f092a259-f382-4cb8-bf7c-e4b038e02184",
   "metadata": {},
   "outputs": [
    {
     "name": "stdout",
     "output_type": "stream",
     "text": [
      "pH (units)                    0\n",
      "Ammonia (mg/L)                0\n",
      "Nitrate (mg/L)                0\n",
      "Inorganic Phosphate (mg/L)    0\n",
      "BOD (mg/l)                    0\n",
      "Dissolved Oxygen (mg/l)       0\n",
      "dtype: int64\n"
     ]
    }
   ],
   "source": [
    "import pandas as pd\n",
    "from sklearn.ensemble import RandomForestRegressor\n",
    "\n",
    "# Load the dataset\n",
    "file_path = 'Complete.csv'\n",
    "df = pd.read_csv(file_path)\n",
    "\n",
    "# List of columns to fill based on their correlation with Phytoplankton (cells/ml)\n",
    "columns_to_fill = ['pH (units)', 'Ammonia (mg/L)','Nitrate (mg/L)', 'Inorganic Phosphate (mg/L)', 'BOD (mg/l)','Dissolved Oxygen (mg/l)']\n",
    "\n",
    "# Define the predictors to be used\n",
    "predictors = ['Phytoplankton (cells/ml)', 'Temperature', 'Humidity', 'Wind Speed']\n",
    "\n",
    "def random_forest_imputation(df, target_column, predictors):\n",
    "    # Separate rows with missing and complete data\n",
    "    missing_data = df[df[target_column].isnull()]\n",
    "    complete_data = df[df[target_column].notnull()]\n",
    "    \n",
    "    if missing_data.empty:  # If there are no missing values for the column\n",
    "        return\n",
    "    \n",
    "    # Use only the selected predictors\n",
    "    X_complete = complete_data[predictors]\n",
    "    y_complete = complete_data[target_column]\n",
    "    \n",
    "    # Fit the Random Forest model\n",
    "    rf = RandomForestRegressor(n_estimators=100, random_state=0)\n",
    "    rf.fit(X_complete, y_complete)\n",
    "    \n",
    "    # Predict missing values\n",
    "    X_missing = missing_data[predictors]\n",
    "    df.loc[df[target_column].isnull(), target_column] = rf.predict(X_missing)\n",
    "\n",
    "# Apply random forest imputation on each column using the defined predictors\n",
    "for column in columns_to_fill:\n",
    "    random_forest_imputation(df, column, predictors)\n",
    "\n",
    "# Check if missing values are filled\n",
    "print(df[columns_to_fill].isnull().sum())\n",
    "\n",
    "# Save the imputed dataset to a new CSV file\n",
    "df.to_csv('Complete_RF_Imputed.csv', index=False)\n"
   ]
  },
  {
   "cell_type": "code",
   "execution_count": 58,
   "id": "73585ca7-c30e-45c7-ae34-181ea889eb88",
   "metadata": {},
   "outputs": [
    {
     "name": "stdout",
     "output_type": "stream",
     "text": [
      "pH (units)                    222\n",
      "Ammonia (mg/L)                411\n",
      "Nitrate (mg/L)                438\n",
      "Inorganic Phosphate (mg/L)    381\n",
      "BOD (mg/l)                    192\n",
      "Dissolved Oxygen (mg/l)        60\n",
      "dtype: int64\n"
     ]
    }
   ],
   "source": [
    "import pandas as pd\n",
    "from sklearn.ensemble import RandomForestRegressor\n",
    "\n",
    "# Load the dataset\n",
    "file_path = 'Complete.csv'\n",
    "df = pd.read_csv(file_path)\n",
    "\n",
    "# List of columns to fill based on their correlation with Phytoplankton (cells/ml)\n",
    "columns_to_fill = ['pH (units)', 'Ammonia (mg/L)','Nitrate (mg/L)', 'Inorganic Phosphate (mg/L)', 'BOD (mg/l)','Dissolved Oxygen (mg/l)']\n",
    "\n",
    "# Define the predictors to be used and group by 'Month' and 'Year'\n",
    "predictors = ['Phytoplankton (cells/ml)', 'Temperature', 'Humidity', 'Wind Speed']\n",
    "group_columns = ['Month', 'Year']\n",
    "\n",
    "# Function to apply Random Forest imputation while considering grouping by Month and Year\n",
    "def random_forest_imputation_grouped(df, target_column, predictors, group_columns):\n",
    "    # Group by the specified columns (e.g., Month and Year)\n",
    "    grouped = df.groupby(group_columns)\n",
    "    \n",
    "    for name, group in grouped:\n",
    "        missing_data = group[group[target_column].isnull()]\n",
    "        complete_data = group[group[target_column].notnull()]\n",
    "        \n",
    "        if complete_data.empty or missing_data.empty:\n",
    "            continue  # Skip if no data is available for imputation\n",
    "        \n",
    "        # Use only the selected predictors for imputation\n",
    "        X_complete = complete_data[predictors]\n",
    "        y_complete = complete_data[target_column]\n",
    "        \n",
    "        # Train a Random Forest model on the complete data within the group\n",
    "        rf = RandomForestRegressor(n_estimators=100, random_state=0)\n",
    "        rf.fit(X_complete, y_complete)\n",
    "        \n",
    "        # Predict missing values within the group\n",
    "        X_missing = missing_data[predictors]\n",
    "        df.loc[missing_data.index, target_column] = rf.predict(X_missing)\n",
    "\n",
    "# Apply the grouped random forest imputation on each column with missing values\n",
    "for column in columns_to_fill:\n",
    "    random_forest_imputation_grouped(df, column, predictors, group_columns)\n",
    "\n",
    "# Check if missing values are filled\n",
    "print(df[columns_to_fill].isnull().sum())\n",
    "\n",
    "# Save the updated dataset to a new CSV file\n",
    "df.to_csv('Complete_RF_Imputed_Grouped.csv', index=False)\n"
   ]
  },
  {
   "cell_type": "code",
   "execution_count": null,
   "id": "3536aa46-9c5e-4702-af68-b5fc9d216a6a",
   "metadata": {},
   "outputs": [],
   "source": []
  }
 ],
 "metadata": {
  "kernelspec": {
   "display_name": "Python 3 (ipykernel)",
   "language": "python",
   "name": "python3"
  },
  "language_info": {
   "codemirror_mode": {
    "name": "ipython",
    "version": 3
   },
   "file_extension": ".py",
   "mimetype": "text/x-python",
   "name": "python",
   "nbconvert_exporter": "python",
   "pygments_lexer": "ipython3",
   "version": "3.12.4"
  }
 },
 "nbformat": 4,
 "nbformat_minor": 5
}
