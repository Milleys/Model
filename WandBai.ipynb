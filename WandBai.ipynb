{
 "cells": [
  {
   "cell_type": "code",
   "execution_count": 3,
   "id": "676f7875-5caa-40c1-93b5-51dc1f0c3daf",
   "metadata": {},
   "outputs": [
    {
     "name": "stderr",
     "output_type": "stream",
     "text": [
      "wandb: Logging into wandb.ai. (Learn how to deploy a W&B server locally: https://wandb.me/wandb-server)\n",
      "wandb: You can find your API key in your browser here: https://wandb.ai/authorize\n",
      "wandb: Paste an API key from your profile and hit enter, or press ctrl+c to quit:"
     ]
    },
    {
     "name": "stdin",
     "output_type": "stream",
     "text": [
      "  ········\n"
     ]
    },
    {
     "name": "stderr",
     "output_type": "stream",
     "text": [
      "wandb: Appending key for api.wandb.ai to your netrc file: C:\\Users\\John Wilson\\_netrc\n"
     ]
    },
    {
     "data": {
      "text/plain": [
       "True"
      ]
     },
     "execution_count": 3,
     "metadata": {},
     "output_type": "execute_result"
    }
   ],
   "source": [
    "import wandb\n",
    "wandb.login()\n"
   ]
  },
  {
   "cell_type": "code",
   "execution_count": 11,
   "id": "dec02933-7850-4e3c-bb2d-bb8d310d2774",
   "metadata": {},
   "outputs": [
    {
     "data": {
      "application/vnd.jupyter.widget-view+json": {
       "model_id": "8277433020c84db09ee67658ba0e33f2",
       "version_major": 2,
       "version_minor": 0
      },
      "text/plain": [
       "VBox(children=(Label(value='Waiting for wandb.init()...\\r'), FloatProgress(value=0.011111111111111112, max=1.0…"
      ]
     },
     "metadata": {},
     "output_type": "display_data"
    },
    {
     "data": {
      "text/html": [
       "Tracking run with wandb version 0.17.5"
      ],
      "text/plain": [
       "<IPython.core.display.HTML object>"
      ]
     },
     "metadata": {},
     "output_type": "display_data"
    },
    {
     "data": {
      "text/html": [
       "Run data is saved locally in <code>C:\\Users\\John Wilson\\Desktop\\Datamodel\\wandb\\run-20240801_020035-yeghg63u</code>"
      ],
      "text/plain": [
       "<IPython.core.display.HTML object>"
      ]
     },
     "metadata": {},
     "output_type": "display_data"
    },
    {
     "data": {
      "text/html": [
       "Syncing run <strong><a href='https://wandb.ai/johnwilsonlorin1-laguna-state-polytechnic-university/LLDA-Detecting%20Algal%20Blooms%20and%20Fish%20Kill/runs/yeghg63u' target=\"_blank\">golden-forest-4</a></strong> to <a href='https://wandb.ai/johnwilsonlorin1-laguna-state-polytechnic-university/LLDA-Detecting%20Algal%20Blooms%20and%20Fish%20Kill' target=\"_blank\">Weights & Biases</a> (<a href='https://wandb.me/run' target=\"_blank\">docs</a>)<br/>"
      ],
      "text/plain": [
       "<IPython.core.display.HTML object>"
      ]
     },
     "metadata": {},
     "output_type": "display_data"
    },
    {
     "data": {
      "text/html": [
       " View project at <a href='https://wandb.ai/johnwilsonlorin1-laguna-state-polytechnic-university/LLDA-Detecting%20Algal%20Blooms%20and%20Fish%20Kill' target=\"_blank\">https://wandb.ai/johnwilsonlorin1-laguna-state-polytechnic-university/LLDA-Detecting%20Algal%20Blooms%20and%20Fish%20Kill</a>"
      ],
      "text/plain": [
       "<IPython.core.display.HTML object>"
      ]
     },
     "metadata": {},
     "output_type": "display_data"
    },
    {
     "data": {
      "text/html": [
       " View run at <a href='https://wandb.ai/johnwilsonlorin1-laguna-state-polytechnic-university/LLDA-Detecting%20Algal%20Blooms%20and%20Fish%20Kill/runs/yeghg63u' target=\"_blank\">https://wandb.ai/johnwilsonlorin1-laguna-state-polytechnic-university/LLDA-Detecting%20Algal%20Blooms%20and%20Fish%20Kill/runs/yeghg63u</a>"
      ],
      "text/plain": [
       "<IPython.core.display.HTML object>"
      ]
     },
     "metadata": {},
     "output_type": "display_data"
    },
    {
     "name": "stdout",
     "output_type": "stream",
     "text": [
      "Best Parameters: {'C': 100, 'epsilon': 0.1, 'gamma': 'scale', 'kernel': 'linear'}\n",
      "Best Score (Negative MSE): -11167781236.216822\n",
      "Optimized SVR - Mean Squared Error: 19309880777.458584\n",
      "Optimized SVR - Mean Absolute Error: 52314.473318503435\n",
      "Optimized SVR - R^2 Score: -0.07673343084866646\n",
      "Model saved to 'best_svr_model.pkl'\n"
     ]
    },
    {
     "data": {
      "application/vnd.jupyter.widget-view+json": {
       "model_id": "301286b9322142d0a202cc2e409f6a38",
       "version_major": 2,
       "version_minor": 0
      },
      "text/plain": [
       "VBox(children=(Label(value='0.001 MB of 0.027 MB uploaded\\r'), FloatProgress(value=0.03695923090617768, max=1.…"
      ]
     },
     "metadata": {},
     "output_type": "display_data"
    },
    {
     "data": {
      "text/html": [
       "<style>\n",
       "    table.wandb td:nth-child(1) { padding: 0 10px; text-align: left ; width: auto;} td:nth-child(2) {text-align: left ; width: 100%}\n",
       "    .wandb-row { display: flex; flex-direction: row; flex-wrap: wrap; justify-content: flex-start; width: 100% }\n",
       "    .wandb-col { display: flex; flex-direction: column; flex-basis: 100%; flex: 1; padding: 10px; }\n",
       "    </style>\n",
       "<div class=\"wandb-row\"><div class=\"wandb-col\"><h3>Run history:</h3><br/><table class=\"wandb\"><tr><td>Best Score (Negative MSE)</td><td>▁</td></tr><tr><td>MAE</td><td>▁</td></tr><tr><td>MSE</td><td>▁</td></tr><tr><td>R2 Score</td><td>▁</td></tr></table><br/></div><div class=\"wandb-col\"><h3>Run summary:</h3><br/><table class=\"wandb\"><tr><td>Best Score (Negative MSE)</td><td>-11167781236.21682</td></tr><tr><td>MAE</td><td>52314.47332</td></tr><tr><td>MSE</td><td>19309880777.45858</td></tr><tr><td>R2 Score</td><td>-0.07673</td></tr></table><br/></div></div>"
      ],
      "text/plain": [
       "<IPython.core.display.HTML object>"
      ]
     },
     "metadata": {},
     "output_type": "display_data"
    },
    {
     "data": {
      "text/html": [
       " View run <strong style=\"color:#cdcd00\">golden-forest-4</strong> at: <a href='https://wandb.ai/johnwilsonlorin1-laguna-state-polytechnic-university/LLDA-Detecting%20Algal%20Blooms%20and%20Fish%20Kill/runs/yeghg63u' target=\"_blank\">https://wandb.ai/johnwilsonlorin1-laguna-state-polytechnic-university/LLDA-Detecting%20Algal%20Blooms%20and%20Fish%20Kill/runs/yeghg63u</a><br/> View project at: <a href='https://wandb.ai/johnwilsonlorin1-laguna-state-polytechnic-university/LLDA-Detecting%20Algal%20Blooms%20and%20Fish%20Kill' target=\"_blank\">https://wandb.ai/johnwilsonlorin1-laguna-state-polytechnic-university/LLDA-Detecting%20Algal%20Blooms%20and%20Fish%20Kill</a><br/>Synced 6 W&B file(s), 0 media file(s), 0 artifact file(s) and 0 other file(s)"
      ],
      "text/plain": [
       "<IPython.core.display.HTML object>"
      ]
     },
     "metadata": {},
     "output_type": "display_data"
    },
    {
     "data": {
      "text/html": [
       "Find logs at: <code>.\\wandb\\run-20240801_020035-yeghg63u\\logs</code>"
      ],
      "text/plain": [
       "<IPython.core.display.HTML object>"
      ]
     },
     "metadata": {},
     "output_type": "display_data"
    },
    {
     "data": {
      "text/html": [
       "The new W&B backend becomes opt-out in version 0.18.0; try it out with `wandb.require(\"core\")`! See https://wandb.me/wandb-core for more information."
      ],
      "text/plain": [
       "<IPython.core.display.HTML object>"
      ]
     },
     "metadata": {},
     "output_type": "display_data"
    }
   ],
   "source": [
    "import pandas as pd\n",
    "from sklearn.model_selection import train_test_split\n",
    "from sklearn.svm import SVR\n",
    "from sklearn.metrics import mean_squared_error, r2_score, mean_absolute_error\n",
    "import matplotlib.pyplot as plt\n",
    "import seaborn as sns\n",
    "import re\n",
    "from sklearn.preprocessing import StandardScaler\n",
    "from sklearn.model_selection import GridSearchCV\n",
    "import pickle\n",
    "import wandb\n",
    "\n",
    "# Initialize a new wandb run\n",
    "wandb.init(project='LLDA-Detecting Algal Blooms and Fish Kill')\n",
    "\n",
    "# Load datasets with specified encoding\n",
    "water_quality_df = pd.read_csv('Overall-dataset-llda(west phyto) assumed_knn_imputed_final2.csv', encoding='latin1')\n",
    "weather_df = pd.read_csv('Overall-weather-dataset(csv).csv', encoding='iso-8859-1')\n",
    "\n",
    "water_quality_df['Phytoplankton (cells/ml)'] = water_quality_df['Phytoplankton (cells/ml)'].str.replace(',', '')\n",
    "water_quality_df['Month'] = water_quality_df['Month'].astype(str)\n",
    "\n",
    "# Correct typos in the 'Month' column\n",
    "water_quality_df['Month'] = water_quality_df['Month'].replace({\n",
    "    'Febuary': 'February',\n",
    "    'Aug': 'August',\n",
    "    'Sept': 'September',\n",
    "    'Nov': 'November',\n",
    "    'Dec': 'December'\n",
    "}, regex=False)\n",
    "\n",
    "# List of columns to exclude from transformation\n",
    "exclude_columns = ['Month', 'Wind', 'Condition']\n",
    "\n",
    "# Function to remove non-numeric characters from each cell\n",
    "def remove_non_numeric(value):\n",
    "    if isinstance(value, str) and value not in exclude_columns:\n",
    "        return re.sub(r'[^0-9.]', '', value)\n",
    "    else:\n",
    "        return value\n",
    "\n",
    "# Apply the function to each cell in numeric columns of the dataframe\n",
    "for column in weather_df.columns:\n",
    "    if column not in exclude_columns:\n",
    "        weather_df[column] = weather_df[column].apply(remove_non_numeric)\n",
    "\n",
    "# Convert the numeric columns to numeric type\n",
    "numeric_columns = [col for col in weather_df.columns if col not in exclude_columns]\n",
    "weather_df[numeric_columns] = weather_df[numeric_columns].apply(pd.to_numeric, errors='coerce')\n",
    "\n",
    "# Define mappings for Wind column\n",
    "wind_mapping = {\n",
    "    'N': 1, 'NNE': 2, 'NE': 3, 'ENE': 4,\n",
    "    'E': 5, 'ESE': 6, 'SE': 7, 'SSE': 8,\n",
    "    'S': 9, 'SSW': 10, 'SW': 11, 'WSW': 12,\n",
    "    'W': 13, 'WNW': 14, 'NW': 15, 'NNW': 16,\n",
    "    'VAR': 17, 'CALM': 18\n",
    "}\n",
    "\n",
    "# Define mappings for Condition column\n",
    "condition_mapping = {\n",
    "    'Fair': 1, 'Mostly Cloudy': 2, 'Partly Cloudy': 3, 'Cloudy': 4,\n",
    "    'Light Rain': 5, 'Light Rain Shower': 6, 'Rain': 7, 'Heavy Rain': 8,\n",
    "    'Thunder': 9, 'Light Rain with Thunder': 10, 'T-Storm': 11,\n",
    "    'Heavy Rain Shower': 12, 'Rain Shower': 13, 'Showers in the Vicinity': 14,\n",
    "    'Thunder in the Vicinity': 15, 'Mostly Cloudy / Windy': 16,\n",
    "    'Fair / Windy': 17, 'Partly Cloudy / Windy': 18, 'Rain / Windy': 19,\n",
    "    'Light Rain Shower / Windy': 20, 'Heavy Rain / Windy': 21\n",
    "}\n",
    "\n",
    "# Apply mappings to Wind and Condition columns\n",
    "weather_df['Wind'] = weather_df['Wind'].map(wind_mapping)\n",
    "weather_df['Condition'] = weather_df['Condition'].map(condition_mapping)\n",
    "\n",
    "# Define a function to compute the mode\n",
    "def compute_mode(series):\n",
    "    return series.mode().iloc[0] if not series.mode().empty else None\n",
    "\n",
    "# Group by 'Year' and 'Month'\n",
    "grouped = weather_df.groupby(['Year', 'Month'])\n",
    "\n",
    "# Aggregate to get the mean for all columns except 'Wind' and 'Condition'\n",
    "# and the mode for 'Wind' and 'Condition'\n",
    "weather_monthly_stats = grouped.agg({\n",
    "    'Wind': compute_mode,\n",
    "    'Condition': compute_mode,\n",
    "    'Time': 'mean',\n",
    "    'Temperature': 'mean',\n",
    "    'Dew Point' : 'mean',\n",
    "    'Humidity': 'mean',\n",
    "    'Wind Speed': 'mean',\n",
    "    'Wind Gust': 'mean',\n",
    "    'Pressure': 'mean',\n",
    "    'Precip.': 'mean'\n",
    "}).reset_index()\n",
    "\n",
    "# Select relevant features and target\n",
    "features = ['Temperature', 'Humidity', 'Wind', 'Wind Speed', 'Condition', 'pH (units)', 'Ammonia (mg/L)', 'Nitrate (mg/L)', 'Inorganic Phosphate (mg/L)', 'BOD (mg/l)', 'Dissolved Oxygen (mg/l)', 'Total coliforms (MPN/100ml)']\n",
    "target = 'Phytoplankton (cells/ml)'\n",
    "\n",
    "# Merge datasets on 'Month' and 'Year'\n",
    "merged_df = pd.merge(water_quality_df, weather_monthly_stats, on=['Month', 'Year'])\n",
    "\n",
    "# Split data into training and testing sets\n",
    "X = merged_df[features]\n",
    "y = merged_df[target]\n",
    "X_train, X_test, y_train, y_test = train_test_split(X, y, test_size=0.2, random_state=42)\n",
    "\n",
    "# Standardize features\n",
    "scaler = StandardScaler()\n",
    "X_train_scaled = scaler.fit_transform(X_train)\n",
    "X_test_scaled = scaler.transform(X_test)\n",
    "\n",
    "# Define parameter grid for Grid Search with SVR\n",
    "param_grid = {\n",
    "    'kernel': ['linear', 'poly', 'rbf', 'sigmoid'],\n",
    "    'C': [1, 10, 100],\n",
    "    'epsilon': [0.1, 0.2, 0.3],\n",
    "    'gamma': ['scale', 'auto']\n",
    "}\n",
    "\n",
    "# Initialize GridSearchCV with SVR\n",
    "grid_search = GridSearchCV(SVR(), param_grid, cv=5, scoring='neg_mean_squared_error', n_jobs=-1)\n",
    "\n",
    "# Fit GridSearchCV\n",
    "grid_search.fit(X_train_scaled, y_train)\n",
    "\n",
    "# Best parameters and score\n",
    "best_params = grid_search.best_params_\n",
    "best_score = grid_search.best_score_\n",
    "\n",
    "print(\"Best Parameters:\", best_params)\n",
    "print(\"Best Score (Negative MSE):\", best_score)\n",
    "\n",
    "# Train model with best parameters\n",
    "best_svr_model = grid_search.best_estimator_\n",
    "\n",
    "# Make predictions and evaluate\n",
    "y_pred_best_svr = best_svr_model.predict(X_test_scaled)\n",
    "mse_best_svr = mean_squared_error(y_test, y_pred_best_svr)\n",
    "mae_best_svr = mean_absolute_error(y_test, y_pred_best_svr)\n",
    "r2_best_svr = r2_score(y_test, y_pred_best_svr)\n",
    "\n",
    "print(f'Optimized SVR - Mean Squared Error: {mse_best_svr}')\n",
    "print(f'Optimized SVR - Mean Absolute Error: {mae_best_svr}')\n",
    "print(f'Optimized SVR - R^2 Score: {r2_best_svr}')\n",
    "\n",
    "# Log hyperparameters and metrics to wandb\n",
    "wandb.config.update(best_params)\n",
    "wandb.log({\n",
    "    'Best Score (Negative MSE)': best_score,\n",
    "    'MSE': mse_best_svr,\n",
    "    'MAE': mae_best_svr,\n",
    "    'R2 Score': r2_best_svr\n",
    "})\n",
    "\n",
    "# Save the trained model to a file using pickle\n",
    "model_filename = 'best_svr_model.pkl'\n",
    "with open(model_filename, 'wb') as file:\n",
    "    pickle.dump(best_svr_model, file)\n",
    "\n",
    "print(f\"Model saved to '{model_filename}'\")\n",
    "\n",
    "# Log the model artifact to wandb\n",
    "artifact = wandb.Artifact('best_svr_model', type='model')\n",
    "artifact.add_file(model_filename)\n",
    "wandb.log_artifact(artifact)\n",
    "\n",
    "# Finish the wandb run\n",
    "wandb.finish()\n",
    "\n",
    "# Example: Loading and using the saved model\n",
    "with open(model_filename, 'rb') as file:\n",
    "    loaded_svr_model = pickle.load(file)\n",
    "\n",
    "# Predict using the loaded model\n",
    "y_pred_loaded_model = loaded_svr_model.predict(X_test_scaled)\n"
   ]
  },
  {
   "cell_type": "code",
   "execution_count": null,
   "id": "be420e8a-d539-4b59-bef6-a2495cf29102",
   "metadata": {},
   "outputs": [],
   "source": []
  }
 ],
 "metadata": {
  "kernelspec": {
   "display_name": "Python 3 (ipykernel)",
   "language": "python",
   "name": "python3"
  },
  "language_info": {
   "codemirror_mode": {
    "name": "ipython",
    "version": 3
   },
   "file_extension": ".py",
   "mimetype": "text/x-python",
   "name": "python",
   "nbconvert_exporter": "python",
   "pygments_lexer": "ipython3",
   "version": "3.12.4"
  }
 },
 "nbformat": 4,
 "nbformat_minor": 5
}
