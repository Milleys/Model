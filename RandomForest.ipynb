{
 "cells": [
  {
   "cell_type": "code",
   "execution_count": 2,
   "id": "8b6ee636-52b4-4f9c-a23a-4ffa2aa55a1b",
   "metadata": {},
   "outputs": [
    {
     "name": "stderr",
     "output_type": "stream",
     "text": [
      "wandb: Currently logged in as: johnwilsonlorin1 (johnwilsonlorin1-laguna-state-polytechnic-university). Use `wandb login --relogin` to force relogin\n"
     ]
    },
    {
     "data": {
      "text/plain": [
       "True"
      ]
     },
     "execution_count": 2,
     "metadata": {},
     "output_type": "execute_result"
    }
   ],
   "source": [
    "import wandb\n",
    "wandb.login()"
   ]
  },
  {
   "cell_type": "code",
   "execution_count": 1,
   "id": "58fc865e-e593-447b-af55-6f59f6c04d9f",
   "metadata": {},
   "outputs": [
    {
     "name": "stderr",
     "output_type": "stream",
     "text": [
      "wandb: Currently logged in as: johnwilsonlorin1 (johnwilsonlorin1-laguna-state-polytechnic-university). Use `wandb login --relogin` to force relogin\n"
     ]
    },
    {
     "data": {
      "text/html": [
       "wandb version 0.18.0 is available!  To upgrade, please run:\n",
       " $ pip install wandb --upgrade"
      ],
      "text/plain": [
       "<IPython.core.display.HTML object>"
      ]
     },
     "metadata": {},
     "output_type": "display_data"
    },
    {
     "data": {
      "text/html": [
       "Tracking run with wandb version 0.17.5"
      ],
      "text/plain": [
       "<IPython.core.display.HTML object>"
      ]
     },
     "metadata": {},
     "output_type": "display_data"
    },
    {
     "data": {
      "text/html": [
       "Run data is saved locally in <code>C:\\Users\\John Wilson\\Desktop\\Datamodel\\wandb\\run-20240915_142200-cmkq19v4</code>"
      ],
      "text/plain": [
       "<IPython.core.display.HTML object>"
      ]
     },
     "metadata": {},
     "output_type": "display_data"
    },
    {
     "data": {
      "text/html": [
       "Syncing run <strong><a href='https://wandb.ai/johnwilsonlorin1-laguna-state-polytechnic-university/LLDA-Detecting%20Algal%20Blooms%20and%20Fish%20Kill/runs/cmkq19v4' target=\"_blank\">RandomForestRegressor</a></strong> to <a href='https://wandb.ai/johnwilsonlorin1-laguna-state-polytechnic-university/LLDA-Detecting%20Algal%20Blooms%20and%20Fish%20Kill' target=\"_blank\">Weights & Biases</a> (<a href='https://wandb.me/run' target=\"_blank\">docs</a>)<br/>"
      ],
      "text/plain": [
       "<IPython.core.display.HTML object>"
      ]
     },
     "metadata": {},
     "output_type": "display_data"
    },
    {
     "data": {
      "text/html": [
       " View project at <a href='https://wandb.ai/johnwilsonlorin1-laguna-state-polytechnic-university/LLDA-Detecting%20Algal%20Blooms%20and%20Fish%20Kill' target=\"_blank\">https://wandb.ai/johnwilsonlorin1-laguna-state-polytechnic-university/LLDA-Detecting%20Algal%20Blooms%20and%20Fish%20Kill</a>"
      ],
      "text/plain": [
       "<IPython.core.display.HTML object>"
      ]
     },
     "metadata": {},
     "output_type": "display_data"
    },
    {
     "data": {
      "text/html": [
       " View run at <a href='https://wandb.ai/johnwilsonlorin1-laguna-state-polytechnic-university/LLDA-Detecting%20Algal%20Blooms%20and%20Fish%20Kill/runs/cmkq19v4' target=\"_blank\">https://wandb.ai/johnwilsonlorin1-laguna-state-polytechnic-university/LLDA-Detecting%20Algal%20Blooms%20and%20Fish%20Kill/runs/cmkq19v4</a>"
      ],
      "text/plain": [
       "<IPython.core.display.HTML object>"
      ]
     },
     "metadata": {},
     "output_type": "display_data"
    },
    {
     "name": "stdout",
     "output_type": "stream",
     "text": [
      "Correlation with Phytoplankton (cells/ml):\n",
      "BOD (mg/l)                    0.179928\n",
      "Ammonia (mg/L)                0.139569\n",
      "Inorganic Phosphate (mg/L)    0.129177\n",
      "Humidity                      0.083127\n",
      "Temperature                   0.058434\n",
      "Wind Speed                    0.057731\n",
      "Wind                          0.014732\n",
      "Name: Phytoplankton (cells/ml), dtype: float64\n",
      "Random Forest - Mean Squared Error: 5511806085.206495\n",
      "Random Forest - Mean Absolute Error: 40763.920859307356\n",
      "Random Forest - R^2 Score: 0.28967823418127736\n"
     ]
    },
    {
     "data": {
      "application/vnd.jupyter.widget-view+json": {
       "model_id": "2e8af44c5f6049f190d859c58c6a6c61",
       "version_major": 2,
       "version_minor": 0
      },
      "text/plain": [
       "VBox(children=(Label(value='0.001 MB of 0.001 MB uploaded\\r'), FloatProgress(value=1.0, max=1.0)))"
      ]
     },
     "metadata": {},
     "output_type": "display_data"
    },
    {
     "data": {
      "text/html": [
       "<style>\n",
       "    table.wandb td:nth-child(1) { padding: 0 10px; text-align: left ; width: auto;} td:nth-child(2) {text-align: left ; width: 100%}\n",
       "    .wandb-row { display: flex; flex-direction: row; flex-wrap: wrap; justify-content: flex-start; width: 100% }\n",
       "    .wandb-col { display: flex; flex-direction: column; flex-basis: 100%; flex: 1; padding: 10px; }\n",
       "    </style>\n",
       "<div class=\"wandb-row\"><div class=\"wandb-col\"><h3>Run history:</h3><br/><table class=\"wandb\"><tr><td>MAE</td><td>▁</td></tr><tr><td>MSE</td><td>▁</td></tr><tr><td>R2 Score</td><td>▁</td></tr></table><br/></div><div class=\"wandb-col\"><h3>Run summary:</h3><br/><table class=\"wandb\"><tr><td>MAE</td><td>40763.92086</td></tr><tr><td>MSE</td><td>5511806085.2065</td></tr><tr><td>R2 Score</td><td>0.28968</td></tr></table><br/></div></div>"
      ],
      "text/plain": [
       "<IPython.core.display.HTML object>"
      ]
     },
     "metadata": {},
     "output_type": "display_data"
    },
    {
     "data": {
      "text/html": [
       " View run <strong style=\"color:#cdcd00\">RandomForestRegressor</strong> at: <a href='https://wandb.ai/johnwilsonlorin1-laguna-state-polytechnic-university/LLDA-Detecting%20Algal%20Blooms%20and%20Fish%20Kill/runs/cmkq19v4' target=\"_blank\">https://wandb.ai/johnwilsonlorin1-laguna-state-polytechnic-university/LLDA-Detecting%20Algal%20Blooms%20and%20Fish%20Kill/runs/cmkq19v4</a><br/> View project at: <a href='https://wandb.ai/johnwilsonlorin1-laguna-state-polytechnic-university/LLDA-Detecting%20Algal%20Blooms%20and%20Fish%20Kill' target=\"_blank\">https://wandb.ai/johnwilsonlorin1-laguna-state-polytechnic-university/LLDA-Detecting%20Algal%20Blooms%20and%20Fish%20Kill</a><br/>Synced 6 W&B file(s), 0 media file(s), 0 artifact file(s) and 0 other file(s)"
      ],
      "text/plain": [
       "<IPython.core.display.HTML object>"
      ]
     },
     "metadata": {},
     "output_type": "display_data"
    },
    {
     "data": {
      "text/html": [
       "Find logs at: <code>.\\wandb\\run-20240915_142200-cmkq19v4\\logs</code>"
      ],
      "text/plain": [
       "<IPython.core.display.HTML object>"
      ]
     },
     "metadata": {},
     "output_type": "display_data"
    },
    {
     "data": {
      "text/html": [
       "The new W&B backend becomes opt-out in version 0.18.0; try it out with `wandb.require(\"core\")`! See https://wandb.me/wandb-core for more information."
      ],
      "text/plain": [
       "<IPython.core.display.HTML object>"
      ]
     },
     "metadata": {},
     "output_type": "display_data"
    }
   ],
   "source": [
    "import pandas as pd\n",
    "import seaborn as sns\n",
    "import matplotlib.pyplot as plt\n",
    "from sklearn.model_selection import train_test_split\n",
    "from sklearn.preprocessing import StandardScaler\n",
    "from sklearn.metrics import mean_squared_error, r2_score, mean_absolute_error\n",
    "from xgboost import XGBRegressor\n",
    "from sklearn.ensemble import RandomForestRegressor\n",
    "import wandb\n",
    "\n",
    "# Initialize a new wandb run\n",
    "wandb.init(project='LLDA-Detecting Algal Blooms and Fish Kill', name = \"RandomForestRegressor\")\n",
    "\n",
    "# Load datasets with specified encoding\n",
    "merged_df = pd.read_csv('New_Merged.csv')\n",
    "merged_df.dropna(inplace=True)\n",
    "\n",
    "# Select relevant features and target\n",
    "features = ['Temperature', 'Humidity', 'Wind', 'Wind Speed', 'Ammonia (mg/L)', 'Inorganic Phosphate (mg/L)', 'BOD (mg/l)']\n",
    "target = 'Phytoplankton (cells/ml)'\n",
    "\n",
    "# Combine features and target for correlation analysis\n",
    "df_for_corr = merged_df[features + [target]]\n",
    "\n",
    "# Calculate correlation matrix\n",
    "corr_matrix = df_for_corr.corr()\n",
    "\n",
    "# Print the correlation values with the target variable\n",
    "target_corr = corr_matrix[target].drop(target)\n",
    "sorted_target_corr = target_corr.abs().sort_values(ascending=False)\n",
    "\n",
    "print(\"Correlation with Phytoplankton (cells/ml):\")\n",
    "print(sorted_target_corr)\n",
    "\n",
    "\n",
    "# Drop any remaining missing values\n",
    "merged_df = merged_df.dropna()\n",
    "\n",
    "# Split data into training and testing sets\n",
    "X = merged_df[features]\n",
    "y = merged_df[target]\n",
    "X_train, X_test, y_train, y_test = train_test_split(X, y, test_size=0.2, random_state=42)\n",
    "\n",
    "# Standardize features\n",
    "scaler = StandardScaler()\n",
    "X_train_scaled = scaler.fit_transform(X_train)\n",
    "X_test_scaled = scaler.transform(X_test)\n",
    "\n",
    "# Random Forest\n",
    "rf_model = RandomForestRegressor()\n",
    "rf_model.fit(X_train_scaled, y_train)\n",
    "y_pred_rf = rf_model.predict(X_test_scaled)\n",
    "mse_rf = mean_squared_error(y_test, y_pred_rf)\n",
    "mae_rf = mean_absolute_error(y_test, y_pred_rf)\n",
    "r2_rf = r2_score(y_test, y_pred_rf)\n",
    "\n",
    "print(f'Random Forest - Mean Squared Error: {mse_rf}')\n",
    "print(f'Random Forest - Mean Absolute Error: {mae_rf}')\n",
    "print(f'Random Forest - R^2 Score: {r2_rf}')\n",
    "\n",
    "# Log hyperparameters and metrics to wandb\n",
    "wandb.log({\n",
    "    'MSE': mse_rf,\n",
    "    'MAE': mae_rf,\n",
    "    'R2 Score': r2_rf\n",
    "})\n",
    "\n",
    "# Finish the wandb run\n",
    "wandb.finish()\n"
   ]
  },
  {
   "cell_type": "code",
   "execution_count": null,
   "id": "ab7d644e-a333-4cfd-bb39-af64e8cf91da",
   "metadata": {},
   "outputs": [],
   "source": []
  }
 ],
 "metadata": {
  "kernelspec": {
   "display_name": "Python 3 (ipykernel)",
   "language": "python",
   "name": "python3"
  },
  "language_info": {
   "codemirror_mode": {
    "name": "ipython",
    "version": 3
   },
   "file_extension": ".py",
   "mimetype": "text/x-python",
   "name": "python",
   "nbconvert_exporter": "python",
   "pygments_lexer": "ipython3",
   "version": "3.12.4"
  }
 },
 "nbformat": 4,
 "nbformat_minor": 5
}
