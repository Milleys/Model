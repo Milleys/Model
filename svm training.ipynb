{
 "cells": [
  {
   "cell_type": "code",
   "execution_count": 8,
   "id": "1c63c97c-aeb0-464e-bb42-5494bd8abdfe",
   "metadata": {},
   "outputs": [
    {
     "name": "stderr",
     "output_type": "stream",
     "text": [
      "wandb: Currently logged in as: johnwilsonlorin1 (johnwilsonlorin1-laguna-state-polytechnic-university). Use `wandb login --relogin` to force relogin\n"
     ]
    },
    {
     "data": {
      "text/plain": [
       "True"
      ]
     },
     "execution_count": 8,
     "metadata": {},
     "output_type": "execute_result"
    }
   ],
   "source": [
    "import wandb\n",
    "wandb.login()"
   ]
  },
  {
   "cell_type": "code",
   "execution_count": 12,
   "id": "b72bd10d-747a-4b51-aec1-2f41016bc3ee",
   "metadata": {},
   "outputs": [
    {
     "data": {
      "text/html": [
       "wandb version 0.18.0 is available!  To upgrade, please run:\n",
       " $ pip install wandb --upgrade"
      ],
      "text/plain": [
       "<IPython.core.display.HTML object>"
      ]
     },
     "metadata": {},
     "output_type": "display_data"
    },
    {
     "data": {
      "text/html": [
       "Tracking run with wandb version 0.17.5"
      ],
      "text/plain": [
       "<IPython.core.display.HTML object>"
      ]
     },
     "metadata": {},
     "output_type": "display_data"
    },
    {
     "data": {
      "text/html": [
       "Run data is saved locally in <code>C:\\Users\\John Wilson\\Desktop\\Datamodel\\wandb\\run-20240915_142750-l42xrw4d</code>"
      ],
      "text/plain": [
       "<IPython.core.display.HTML object>"
      ]
     },
     "metadata": {},
     "output_type": "display_data"
    },
    {
     "data": {
      "text/html": [
       "Syncing run <strong><a href='https://wandb.ai/johnwilsonlorin1-laguna-state-polytechnic-university/LLDA-Detecting%20Algal%20Blooms%20and%20Fish%20Kill/runs/l42xrw4d' target=\"_blank\">SVR</a></strong> to <a href='https://wandb.ai/johnwilsonlorin1-laguna-state-polytechnic-university/LLDA-Detecting%20Algal%20Blooms%20and%20Fish%20Kill' target=\"_blank\">Weights & Biases</a> (<a href='https://wandb.me/run' target=\"_blank\">docs</a>)<br/>"
      ],
      "text/plain": [
       "<IPython.core.display.HTML object>"
      ]
     },
     "metadata": {},
     "output_type": "display_data"
    },
    {
     "data": {
      "text/html": [
       " View project at <a href='https://wandb.ai/johnwilsonlorin1-laguna-state-polytechnic-university/LLDA-Detecting%20Algal%20Blooms%20and%20Fish%20Kill' target=\"_blank\">https://wandb.ai/johnwilsonlorin1-laguna-state-polytechnic-university/LLDA-Detecting%20Algal%20Blooms%20and%20Fish%20Kill</a>"
      ],
      "text/plain": [
       "<IPython.core.display.HTML object>"
      ]
     },
     "metadata": {},
     "output_type": "display_data"
    },
    {
     "data": {
      "text/html": [
       " View run at <a href='https://wandb.ai/johnwilsonlorin1-laguna-state-polytechnic-university/LLDA-Detecting%20Algal%20Blooms%20and%20Fish%20Kill/runs/l42xrw4d' target=\"_blank\">https://wandb.ai/johnwilsonlorin1-laguna-state-polytechnic-university/LLDA-Detecting%20Algal%20Blooms%20and%20Fish%20Kill/runs/l42xrw4d</a>"
      ],
      "text/plain": [
       "<IPython.core.display.HTML object>"
      ]
     },
     "metadata": {},
     "output_type": "display_data"
    },
    {
     "name": "stdout",
     "output_type": "stream",
     "text": [
      "Best Parameters: {'C': 100, 'epsilon': 0.1, 'gamma': 'scale', 'kernel': 'linear'}\n",
      "Best Score (Negative MSE): -12503041110.180258\n",
      "Optimized SVR - Mean Squared Error: 7998157399.400708\n",
      "Optimized SVR - Mean Absolute Error: 30207.92797770837\n",
      "Optimized SVR - R^2 Score: -0.030744768486453244\n"
     ]
    },
    {
     "data": {
      "application/vnd.jupyter.widget-view+json": {
       "model_id": "f249d7c83d5f4fcbaa54b1274a908c1a",
       "version_major": 2,
       "version_minor": 0
      },
      "text/plain": [
       "VBox(children=(Label(value='0.001 MB of 0.001 MB uploaded\\r'), FloatProgress(value=1.0, max=1.0)))"
      ]
     },
     "metadata": {},
     "output_type": "display_data"
    },
    {
     "data": {
      "text/html": [
       "<style>\n",
       "    table.wandb td:nth-child(1) { padding: 0 10px; text-align: left ; width: auto;} td:nth-child(2) {text-align: left ; width: 100%}\n",
       "    .wandb-row { display: flex; flex-direction: row; flex-wrap: wrap; justify-content: flex-start; width: 100% }\n",
       "    .wandb-col { display: flex; flex-direction: column; flex-basis: 100%; flex: 1; padding: 10px; }\n",
       "    </style>\n",
       "<div class=\"wandb-row\"><div class=\"wandb-col\"><h3>Run history:</h3><br/><table class=\"wandb\"><tr><td>MAE</td><td>▁</td></tr><tr><td>MSE</td><td>▁</td></tr><tr><td>R2 Score</td><td>▁</td></tr></table><br/></div><div class=\"wandb-col\"><h3>Run summary:</h3><br/><table class=\"wandb\"><tr><td>MAE</td><td>30207.92798</td></tr><tr><td>MSE</td><td>7998157399.40071</td></tr><tr><td>R2 Score</td><td>-0.03074</td></tr></table><br/></div></div>"
      ],
      "text/plain": [
       "<IPython.core.display.HTML object>"
      ]
     },
     "metadata": {},
     "output_type": "display_data"
    },
    {
     "data": {
      "text/html": [
       " View run <strong style=\"color:#cdcd00\">SVR</strong> at: <a href='https://wandb.ai/johnwilsonlorin1-laguna-state-polytechnic-university/LLDA-Detecting%20Algal%20Blooms%20and%20Fish%20Kill/runs/l42xrw4d' target=\"_blank\">https://wandb.ai/johnwilsonlorin1-laguna-state-polytechnic-university/LLDA-Detecting%20Algal%20Blooms%20and%20Fish%20Kill/runs/l42xrw4d</a><br/> View project at: <a href='https://wandb.ai/johnwilsonlorin1-laguna-state-polytechnic-university/LLDA-Detecting%20Algal%20Blooms%20and%20Fish%20Kill' target=\"_blank\">https://wandb.ai/johnwilsonlorin1-laguna-state-polytechnic-university/LLDA-Detecting%20Algal%20Blooms%20and%20Fish%20Kill</a><br/>Synced 6 W&B file(s), 0 media file(s), 0 artifact file(s) and 0 other file(s)"
      ],
      "text/plain": [
       "<IPython.core.display.HTML object>"
      ]
     },
     "metadata": {},
     "output_type": "display_data"
    },
    {
     "data": {
      "text/html": [
       "Find logs at: <code>.\\wandb\\run-20240915_142750-l42xrw4d\\logs</code>"
      ],
      "text/plain": [
       "<IPython.core.display.HTML object>"
      ]
     },
     "metadata": {},
     "output_type": "display_data"
    },
    {
     "data": {
      "text/html": [
       "The new W&B backend becomes opt-out in version 0.18.0; try it out with `wandb.require(\"core\")`! See https://wandb.me/wandb-core for more information."
      ],
      "text/plain": [
       "<IPython.core.display.HTML object>"
      ]
     },
     "metadata": {},
     "output_type": "display_data"
    }
   ],
   "source": [
    "import pandas as pd\n",
    "from sklearn.model_selection import train_test_split\n",
    "from sklearn.svm import SVR\n",
    "from sklearn.metrics import mean_squared_error, r2_score, mean_absolute_error\n",
    "import matplotlib.pyplot as plt\n",
    "import seaborn as sns\n",
    "import re\n",
    "from sklearn.preprocessing import StandardScaler\n",
    "from sklearn.model_selection import GridSearchCV\n",
    "import pickle \n",
    "import wandb\n",
    "\n",
    "\n",
    "wandb.init(project='LLDA-Detecting Algal Blooms and Fish Kill', name = \"SVR\")\n",
    "\n",
    "# Load datasets with specified encoding\n",
    "merged_df = pd.read_csv('complete.csv')\n",
    "\n",
    "# Select relevant features and target\n",
    "features = ['Temperature', 'Humidity', 'Wind Speed', 'pH (units)', 'Ammonia (mg/L)', 'Inorganic Phosphate (mg/L)', 'BOD (mg/l)', 'Total coliforms (MPN/100ml)']\n",
    "target = 'Phytoplankton (cells/ml)'\n",
    "\n",
    "merged_df = merged_df.dropna()\n",
    "\n",
    "# Split data into training and testing sets\n",
    "X = merged_df[features]\n",
    "y = merged_df[target]\n",
    "X_train, X_test, y_train, y_test = train_test_split(X, y, test_size=0.2, random_state=42)\n",
    "\n",
    "# Standardize features\n",
    "scaler = StandardScaler()\n",
    "X_train_scaled = scaler.fit_transform(X_train)\n",
    "X_test_scaled = scaler.transform(X_test)\n",
    "\n",
    "# Define parameter grid for Grid Search with SVR\n",
    "param_grid = {\n",
    "    'kernel': ['linear', 'poly', 'rbf', 'sigmoid'],\n",
    "    'C': [1, 10, 100],\n",
    "    'epsilon': [0.1, 0.2, 0.3],\n",
    "    'gamma': ['scale', 'auto']\n",
    "}\n",
    "\n",
    "# Initialize GridSearchCV with SVR\n",
    "grid_search = GridSearchCV(SVR(), param_grid, cv=5, scoring='neg_mean_squared_error', n_jobs=-1)\n",
    "\n",
    "# Fit GridSearchCV\n",
    "grid_search.fit(X_train_scaled, y_train)\n",
    "\n",
    "# Best parameters and score\n",
    "print(\"Best Parameters:\", grid_search.best_params_)\n",
    "print(\"Best Score (Negative MSE):\", grid_search.best_score_)\n",
    "\n",
    "# Train model with best parameters\n",
    "best_svr_model = grid_search.best_estimator_\n",
    "\n",
    "# Make predictions and evaluate\n",
    "y_pred_best_svr = best_svr_model.predict(X_test_scaled)\n",
    "mse_best_svr = mean_squared_error(y_test, y_pred_best_svr)\n",
    "mae_best_svr = mean_absolute_error(y_test, y_pred_best_svr)\n",
    "r2_best_svr = r2_score(y_test, y_pred_best_svr)\n",
    "\n",
    "print(f'Optimized SVR - Mean Squared Error: {mse_best_svr}')\n",
    "print(f'Optimized SVR - Mean Absolute Error: {mae_best_svr}')\n",
    "print(f'Optimized SVR - R^2 Score: {r2_best_svr}')\n",
    "\n",
    "# Log hyperparameters and metrics to wandb\n",
    "wandb.log({\n",
    "    'MSE': mse_best_svr,\n",
    "    'MAE': mae_best_svr,\n",
    "    'R2 Score': r2_best_svr\n",
    "})\n",
    "\n",
    "# Finish the wandb run\n",
    "wandb.finish()\n",
    "\n"
   ]
  },
  {
   "cell_type": "code",
   "execution_count": 5,
   "id": "4362b39b-e6f5-4bff-b5d1-362b5f7e4fb8",
   "metadata": {},
   "outputs": [],
   "source": [
    "import pickle"
   ]
  },
  {
   "cell_type": "code",
   "execution_count": 13,
   "id": "0c10b35d-a7e9-44b5-ae5a-7fea9f881102",
   "metadata": {},
   "outputs": [],
   "source": [
    "with open('best_svr_model.pkl', 'wb') as file:\n",
    "    pickle.dump(best_svr_model, file)"
   ]
  },
  {
   "cell_type": "code",
   "execution_count": 15,
   "id": "bc33b456-466a-4fd7-82fc-d860ca5bb866",
   "metadata": {},
   "outputs": [],
   "source": [
    "with open('best_svr_model.pkl', 'rb') as file:\n",
    "    model_loaded = pickle.load(file)"
   ]
  },
  {
   "cell_type": "code",
   "execution_count": 37,
   "id": "43791c39-602e-4a60-b610-8adce008c2f0",
   "metadata": {},
   "outputs": [
    {
     "data": {
      "text/plain": [
       "array([26877.91341235,  9771.28544985, 26533.35374031,  5037.03887016,\n",
       "       22414.24656182, 35397.90630199, 16478.50761971, 13293.06401851,\n",
       "        7989.5997163 , 37192.28850061, 27230.47315956, 11594.6917227 ,\n",
       "       18888.42394755, 27421.0647427 , 30474.64200167,  3898.7479411 ,\n",
       "        2820.75191692, 19536.56823213, 14179.3159015 ,  5319.40243479,\n",
       "       12915.34891703, 21348.70281201, 12369.34916928, 18551.4853526 ,\n",
       "       14851.1650974 ,  6966.0383026 , 12790.44648884, 23621.19357102,\n",
       "       14144.7395092 , 18091.55150746, 29078.1329786 , 24309.94674064,\n",
       "       13155.48560273, 12086.54546426, 13439.52615793, 19264.30387838,\n",
       "       16087.44043816, 21852.4603923 , 11236.2531948 , 24869.26763311,\n",
       "       13952.80131416, 18406.50422039, 21539.51004686,  7601.68940917,\n",
       "        7281.17619539, 15073.52260182, 16538.60283171, 24137.32043052,\n",
       "       14149.61261053, 19900.07895384, 17666.11756913, 17569.89826596,\n",
       "       20648.94059326, 18772.03287399,  2171.09066793, 22218.10946547,\n",
       "       18169.78193006, 22359.47655855, 17857.27576395, 19971.25477191,\n",
       "        8450.47136135,  8061.61137956, 41586.54687649, 21110.02489567,\n",
       "       26131.75606967, 15691.59750147, 17876.86115658, 26557.79435719,\n",
       "        9252.16284548, 12279.58281739, 16789.008407  , 17545.12985078,\n",
       "       20065.93938715, 17180.3088634 , 10211.53346392, 14292.3388531 ,\n",
       "       24971.47416533, 13227.44239072, 10072.54414904, 10673.69312951,\n",
       "        8482.42380988, 16327.51712772, 16836.2501321 , 26433.57064782,\n",
       "       19295.76966169,  9768.85142847, 24671.58287286, 13072.71804627])"
      ]
     },
     "execution_count": 37,
     "metadata": {},
     "output_type": "execute_result"
    }
   ],
   "source": [
    "model_loaded.predict(X_test_scaled)"
   ]
  },
  {
   "cell_type": "code",
   "execution_count": 43,
   "id": "02867a85-b73d-46b8-9878-11841d9c54ae",
   "metadata": {},
   "outputs": [],
   "source": [
    "# Save the scaler\n",
    "with open('scaler.pkl', 'wb') as file:\n",
    "    pickle.dump(scaler, file)\n"
   ]
  },
  {
   "cell_type": "code",
   "execution_count": null,
   "id": "6ef62162-2441-414b-99a6-0c786f12e909",
   "metadata": {},
   "outputs": [],
   "source": []
  }
 ],
 "metadata": {
  "kernelspec": {
   "display_name": "Python 3 (ipykernel)",
   "language": "python",
   "name": "python3"
  },
  "language_info": {
   "codemirror_mode": {
    "name": "ipython",
    "version": 3
   },
   "file_extension": ".py",
   "mimetype": "text/x-python",
   "name": "python",
   "nbconvert_exporter": "python",
   "pygments_lexer": "ipython3",
   "version": "3.12.4"
  }
 },
 "nbformat": 4,
 "nbformat_minor": 5
}
